{
 "cells": [
  {
   "cell_type": "code",
   "execution_count": 206,
   "id": "529e7b76",
   "metadata": {},
   "outputs": [],
   "source": [
    "import pandas as pd\n",
    "import os\n"
   ]
  },
  {
   "cell_type": "code",
   "execution_count": 210,
   "id": "0c66dd06",
   "metadata": {},
   "outputs": [
    {
     "data": {
      "text/plain": [
       "['ConsolidadoMunicipio-1995-1999.csv',\n",
       " 'ConsolidadoMunicipio-2000-2004.csv',\n",
       " 'ConsolidadoMunicipio-2000-2004.xlsx',\n",
       " 'ConsolidadoMunicipio-2005-2009.csv',\n",
       " 'ConsolidadoMunicipio-2005-2009.xlsx',\n",
       " 'ConsolidadoMunicipio-2010-2014.csv',\n",
       " 'ConsolidadoMunicipio-2010-2014.xlsx',\n",
       " 'ConsolidadoMunicipio-2015-2019.csv',\n",
       " 'ConsolidadoMunicipio-2015-2019.xlsx',\n",
       " 'ConsolidadoMunicipio-2020-2022.csv',\n",
       " 'ConsolidadoMunicipio-2020-2022.xlsx',\n",
       " 'importacao.ipynb',\n",
       " 'Municipio-1995-2022.txt',\n",
       " 'Municipio-1995-2022.txt.csv',\n",
       " 'snis_saneamento_apos_tonumeric.html']"
      ]
     },
     "execution_count": 210,
     "metadata": {},
     "output_type": "execute_result"
    }
   ],
   "source": [
    "file_names = os.listdir()\n",
    "file_names"
   ]
  },
  {
   "cell_type": "code",
   "execution_count": 213,
   "id": "74446df4",
   "metadata": {},
   "outputs": [],
   "source": [
    "df = pd.DataFrame()\n",
    "\n",
    "for file in file_names:\n",
    "        if 'xlsx' in file:\n",
    "            partial_df = pd.read_excel(f'{file}')\n",
    "            df = pd.concat([df,partial_df])\n",
    "\n",
    "df.to_excel('full_dataset/Municipio-1995-2022.xlsx')"
   ]
  }
 ],
 "metadata": {
  "language_info": {
   "name": "python"
  }
 },
 "nbformat": 4,
 "nbformat_minor": 5
}
